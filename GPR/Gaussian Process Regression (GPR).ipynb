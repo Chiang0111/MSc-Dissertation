{
 "cells": [
  {
   "cell_type": "code",
   "execution_count": 2,
   "metadata": {},
   "outputs": [
    {
     "name": "stderr",
     "output_type": "stream",
     "text": [
      "/Users/Charlene/anaconda3/lib/python3.11/site-packages/sklearn/experimental/enable_hist_gradient_boosting.py:16: UserWarning: Since version 1.0, it is not needed to import enable_hist_gradient_boosting anymore. HistGradientBoostingClassifier and HistGradientBoostingRegressor are now stable and can be normally imported from sklearn.ensemble.\n",
      "  warnings.warn(\n"
     ]
    }
   ],
   "source": [
    "import os\n",
    "import numpy as np\n",
    "import pandas as pd\n",
    "from sklearn.model_selection import train_test_split\n",
    "from sklearn.preprocessing import StandardScaler, MinMaxScaler\n",
    "from sklearn import svm\n",
    "\n",
    "from sklearn import tree\n",
    "from sklearn import neighbors\n",
    "\n",
    "from sklearn.gaussian_process import GaussianProcessRegressor\n",
    "from sklearn.gaussian_process.kernels import RBF,DotProduct, WhiteKernel\n",
    "from sklearn.gaussian_process.kernels import Matern\n",
    "from sklearn.gaussian_process.kernels import RationalQuadratic\n",
    "\n",
    "\n",
    "from sklearn.model_selection import cross_val_score, KFold\n",
    "\n",
    "from sklearn.ensemble import GradientBoostingRegressor\n",
    "from sklearn.ensemble import RandomForestRegressor\n",
    "from sklearn.experimental import enable_hist_gradient_boosting\n",
    "from sklearn.ensemble import HistGradientBoostingRegressor\n",
    "\n",
    "from sklearn import linear_model\n",
    "from sklearn import ensemble \n",
    "import matplotlib.pyplot as plt\n",
    "from matplotlib.backends.backend_pdf import PdfPages\n",
    "from sklearn.neighbors import KNeighborsRegressor\n",
    "\n",
    "\n",
    "from sklearn.metrics import auc, accuracy_score, confusion_matrix, mean_squared_error\n",
    "from sklearn.cross_decomposition import PLSRegression\n",
    "from sklearn.model_selection import RepeatedKFold\n",
    "from sklearn.model_selection import cross_val_score\n",
    "\n",
    "#import xgboost as xgb\n",
    "\n",
    "#from lightgbm import LGBMRegressor\n",
    "#from autosklearn.regression import AutoSklearnRegressor\n",
    "#from autosklearn.metrics import mean_absolute_error as auto_mean_absolute_error\n",
    "\n",
    "#from numba import njit\n",
    "#import shap\n"
   ]
  },
  {
   "cell_type": "code",
   "execution_count": 3,
   "metadata": {},
   "outputs": [],
   "source": [
    "cwd = os.getcwd()\n",
    "\n",
    "# Read and Scale the Data"
   ]
  },
  {
   "cell_type": "code",
   "execution_count": 4,
   "metadata": {},
   "outputs": [
    {
     "name": "stdout",
     "output_type": "stream",
     "text": [
      "Input Data:\n",
      "Mean: [ 56.71328671  79.04755245 135.76083916]\n",
      "Standard Deviation: [24.70939415 38.28400282 62.61852653]\n",
      "\n",
      "Output Data:\n",
      "Mean: [-40.76148206]\n",
      "Standard Deviation: [42.44917003]\n"
     ]
    }
   ],
   "source": [
    "train_data = pd.read_excel (r'data.xlsx') \n",
    "\n",
    "name=['Z','N','A']  #0.940609 1.02737  1.14384\n",
    "\n",
    "x_train = pd.DataFrame(train_data,  columns=name)  \n",
    "y_train = pd.DataFrame(train_data, columns= ['MeV'])\n",
    "\n",
    "test_size = 0.70  # You can adjust this to set the proportion of the test set\n",
    "random_state = 100  # You can choose any random_state value for reproducibility\n",
    "\n",
    "x_train, x_test, y_train, y_test = train_test_split(x_train, y_train, test_size=test_size, random_state=random_state)\n",
    "\n",
    "train_len=len(x_train)\n",
    "test_len=len(x_test)\n",
    "\n",
    "#test_data= pd.read_excel (r'test_fixed.xls')\n",
    "#x_test = pd.DataFrame(test_data,  columns=name)  \n",
    "#y_test = pd.DataFrame(test_data, columns= ['MeV'])\n",
    "\n",
    "#test_len=len(x_test)\n",
    "\n",
    "extra_data= pd.read_excel (r'NEW_EXP_DATA_FOR_EXTRAPOLATION.xlsx')\n",
    "x_extra = pd.DataFrame(extra_data,  columns=name)  \n",
    "y_extra = pd.DataFrame(extra_data, columns= ['MeV'])\n",
    "\n",
    "inp=np.concatenate((x_train,x_test,x_extra),axis=0)\n",
    "out=np.concatenate((y_train,y_test,y_extra),axis=0)\n",
    "train_test_len=train_len+test_len\n",
    "\n",
    "##################################\n",
    "## scale\n",
    "##################################\n",
    "# Initialize the StandardScaler for input data\n",
    "sc_X = StandardScaler()\n",
    "\n",
    "# Fit the scaler on the training data\n",
    "sc_X.fit(x_train)\n",
    "\n",
    "# Transform the training and testing data using the fitted scaler\n",
    "x_train = sc_X.transform(x_train)\n",
    "x_test = sc_X.transform(x_test)\n",
    "x_extra = sc_X.transform(x_extra)\n",
    "\n",
    "# Initialize the StandardScaler for output data\n",
    "sc_Y = StandardScaler()\n",
    "\n",
    "# Fit the scaler on the training data\n",
    "sc_Y.fit(y_train)\n",
    "\n",
    "# Transform the training and testing data using the fitted scaler\n",
    "y_train = sc_Y.transform(y_train)\n",
    "y_test = sc_Y.transform(y_test)\n",
    "y_extra = sc_Y.transform(y_extra)\n",
    "\n",
    "# For input data\n",
    "print(\"Input Data:\")\n",
    "print(\"Mean:\", sc_X.mean_)\n",
    "print(\"Standard Deviation:\", sc_X.scale_)\n",
    "\n",
    "# For output data\n",
    "print(\"\\nOutput Data:\")\n",
    "print(\"Mean:\", sc_Y.mean_)\n",
    "print(\"Standard Deviation:\", sc_Y.scale_)\n",
    "################################\n",
    "name+=['original','prediction']\n"
   ]
  },
  {
   "cell_type": "code",
   "execution_count": 5,
   "metadata": {},
   "outputs": [
    {
     "name": "stdout",
     "output_type": "stream",
     "text": [
      "[[ 0.05207385  0.20772247  0.14754676]\n",
      " [-0.31216009 -0.60201522 -0.49124182]\n",
      " [ 0.98289392  1.30478644  1.18557821]\n",
      " ...\n",
      " [-1.68815498 -1.54235576 -1.60912185]\n",
      " [-0.75733491 -0.62813579 -0.6828784 ]\n",
      " [ 1.34712786  1.72271557  1.58482108]]\n"
     ]
    }
   ],
   "source": [
    "print(x_train)"
   ]
  },
  {
   "cell_type": "code",
   "execution_count": 6,
   "metadata": {},
   "outputs": [
    {
     "name": "stdout",
     "output_type": "stream",
     "text": [
      "[[ 0.94242348  0.75625445  0.83424449]\n",
      " [-0.27168965  0.02487847 -0.09199896]\n",
      " [ 0.86148261  0.36444589  0.56275934]\n",
      " ...\n",
      " [-1.08109841 -1.07218549 -1.08212127]\n",
      " [-0.1098079   0.20772247  0.0836679 ]\n",
      " [-1.48580279 -1.38563234 -1.43345499]]\n"
     ]
    }
   ],
   "source": [
    "print(x_test)"
   ]
  },
  {
   "cell_type": "code",
   "execution_count": 7,
   "metadata": {},
   "outputs": [
    {
     "name": "stdout",
     "output_type": "stream",
     "text": [
      "[[-1.97144804 -1.85580261 -1.91254643]\n",
      " [-1.97144804 -1.82968204 -1.89657671]\n",
      " [-1.97144804 -1.80356147 -1.880607  ]\n",
      " ...\n",
      " [ 2.0351253   1.9578007   2.00003366]\n",
      " [ 2.0351253   1.98392127  2.01600338]\n",
      " [ 2.11606618  2.03616241  2.07988223]]\n"
     ]
    }
   ],
   "source": [
    "print(x_extra)"
   ]
  },
  {
   "cell_type": "markdown",
   "metadata": {},
   "source": [
    "# Linear Models"
   ]
  },
  {
   "cell_type": "markdown",
   "metadata": {},
   "source": [
    "## 3) [Gaussian Process](https://scikit-learn.org/stable/auto_examples/gaussian_process/plot_gpr_noisy_targets.html#sphx-glr-auto-examples-gaussian-process-plot-gpr-noisy-targets-py)\n",
    "### parameters: Scale: [1.0], Alpha: [1𝑒−09], Normalize: [False]\n",
    "### Kernel selected as RBF + White"
   ]
  },
  {
   "cell_type": "code",
   "execution_count": 8,
   "metadata": {
    "scrolled": true
   },
   "outputs": [
    {
     "name": "stdout",
     "output_type": "stream",
     "text": [
      "R^2 Score: 0.9995548072365624\n",
      "0.895660149078173 1.070580389922892 nan\n"
     ]
    }
   ],
   "source": [
    "os.chdir(cwd)\n",
    "analyze_name=\"GP_Regression\"\n",
    "if not (os.path.exists(\"./\"+str(analyze_name))):\n",
    "    os.makedirs(\"./\"+str(analyze_name));\n",
    "os.chdir(\"./\"+str(analyze_name));\n",
    "wfile=open(\"results_\"+str(analyze_name)+\"_selected.txt\",\"a\")\n",
    "Scale=[1.0] \n",
    "Alpha=[1e-09] \n",
    "Normalize=[False] \n",
    "\n",
    "# K-fold cross-validation\n",
    "#kf = KFold(n_splits=5, shuffle=True, random_state=42)\n",
    "\n",
    "for s in Scale:\n",
    "    for a in Alpha:\n",
    "        for n in Normalize:\n",
    "            wfile.write(analyze_name+\"\\n\")\n",
    "            wfile.write(\"Scale : {} Alpha: {} Normalize: {} \\n\".format(str(s),str(a),str(n)))\n",
    "            wfile.write(\"----------------------------------\\n\")\n",
    "            ###############################\n",
    "            ## Model\n",
    "            ################################\n",
    "            #kernel = 1.0 * Matern(length_scale=1.0, nu=2.0,length_scale_bounds=(1e-10, 1e6))+\\\n",
    "            #WhiteKernel(noise_level=1, noise_level_bounds=(1e-20, 1e4))\n",
    "            \n",
    "            kernel = 1.0 * RBF(length_scale=s, length_scale_bounds=(1e-4, 1e5)) +\\\n",
    "            WhiteKernel(noise_level=1, noise_level_bounds=(1e-10, 1e1))\n",
    "            gpr = GaussianProcessRegressor(kernel=kernel,alpha=a,normalize_y=n).fit(x_train, y_train)\n",
    "\n",
    "        \n",
    "            ######## EY: The score is printed  ########  31/10/2023 \n",
    "            score = gpr.score(x_train, y_train)\n",
    "             # Print the score\n",
    "            print(\"R^2 Score:\", score)\n",
    "            ###########################################  \n",
    "\n",
    "            # Cross-validation\n",
    "            #cv_scores = cross_val_score(gpr, x_train, y_train.flatten(), cv=kf, scoring='neg_mean_squared_error')\n",
    "            #mean_cv_score = np.mean(cv_scores)\n",
    "            #wfile.write(f'Mean Cross-Validation Score: {mean_cv_score}\\n')\n",
    "\n",
    "            # Fit the GPR model on the entire training set\n",
    "            #gpr.fit(x_train, y_train.flatten())\n",
    "            \n",
    "            \n",
    "            pred_train=gpr.predict(x_train)  #EY: Train data added\n",
    "            pred_train=pred_train.reshape(-1,1)  \n",
    "                \n",
    "            pred=gpr.predict(x_test)\n",
    "            pred=pred.reshape(-1,1)\n",
    "            \n",
    "            pred_extra=gpr.predict(x_extra)\n",
    "            pred_extra=pred_extra.reshape(-1,1)\n",
    "\n",
    "            ########### EY: Standart deviations are calculated  ################### 31/10/2023\n",
    "            pred_train_mean, pred_train_std = gpr.predict(x_train, return_std=True)     # Training set \n",
    "            pred_train_mean = pred_train_mean.reshape(-1, 1)  \n",
    "            pred_train_std = pred_train_std.reshape(-1, 1)\n",
    "            \n",
    "            pred_mean, pred_std = gpr.predict(x_test, return_std=True)               # Test set\n",
    "            pred_mean = pred_mean.reshape(-1, 1)\n",
    "            pred_std = pred_std.reshape(-1, 1)\n",
    "            \n",
    "            pred_extra_mean, pred_extra_std = gpr.predict(x_extra, return_std=True)       # Extrapolation set \n",
    "            pred_extra_mean = pred_extra_mean.reshape(-1, 1)\n",
    "            pred_extra_std = pred_extra_std.reshape(-1, 1)\n",
    "\n",
    "            # Scale and normalize the standard deviations\n",
    "            #sc_std = StandardScaler()\n",
    "            #sc_std.fit(pred_train_std)  # Fit the scaler to the training standard deviations\n",
    "            #pred_train_std_normalized = sc_std.transform(pred_train_std)\n",
    "            #pred_std_normalized = sc_std.transform(pred_std)\n",
    "            #pred_extra_std_normalized = sc_std.transform(pred_extra_std)\n",
    "            #######################################################################  \n",
    "            \n",
    "            ################################\n",
    "            ## Train data predictions\n",
    "            ################################\n",
    "            data=np.concatenate((sc_X.inverse_transform(x_train),sc_Y.inverse_transform(y_train),sc_Y.inverse_transform(pred_train)),axis=1)\n",
    "            dfw = pd.DataFrame(data)\n",
    "            dfw.to_excel('Train_data_predictions.xlsx', index=False, header=name)\n",
    "    \n",
    "            ################################\n",
    "            ## Test data predictions\n",
    "            ################################\n",
    "            data=np.concatenate((sc_X.inverse_transform(x_test),sc_Y.inverse_transform(y_test),sc_Y.inverse_transform(pred)),axis=1)\n",
    "            dfw = pd.DataFrame(data)\n",
    "            dfw.to_excel('predictions.xlsx', index=False, header=name)\n",
    "            ################################\n",
    "            ## Extrapolation predictions\n",
    "            ################################\n",
    "            data=np.concatenate((sc_X.inverse_transform(x_extra),sc_Y.inverse_transform(y_extra),sc_Y.inverse_transform(pred_extra)),axis=1)\n",
    "            dfw = pd.DataFrame(data)\n",
    "            dfw.to_excel('extrapolation.xlsx', index=False, header=name)\n",
    "            \n",
    "\n",
    "            #################################  EY: The same as above but Standart deviations are also added.\n",
    "            # Train Data Predictions (including standard deviations)\n",
    "            data_train = np.concatenate((sc_X.inverse_transform(x_train), sc_Y.inverse_transform(y_train), sc_Y.inverse_transform(pred_train), sc_Y.inverse_transform(pred_train_std)-sc_Y.mean_), axis=1)\n",
    "            dfw_train = pd.DataFrame(data_train)\n",
    "            dfw_train.to_excel('Train_data_predictions_with_std.xlsx', index=False, header=name + ['Standard Deviation'])\n",
    "            \n",
    "            # Test Data Predictions (including standard deviations)\n",
    "            data_test = np.concatenate((sc_X.inverse_transform(x_test), sc_Y.inverse_transform(y_test), sc_Y.inverse_transform(pred), sc_Y.inverse_transform(pred_std)-sc_Y.mean_), axis=1)\n",
    "            dfw_test = pd.DataFrame(data_test)\n",
    "            dfw_test.to_excel('predictions_with_std.xlsx', index=False, header=name + ['Standard Deviation'])\n",
    "            \n",
    "            # Extrapolation Predictions (including standard deviations)\n",
    "            data_extra = np.concatenate((sc_X.inverse_transform(x_extra), sc_Y.inverse_transform(y_extra), sc_Y.inverse_transform(pred_extra), sc_Y.inverse_transform(pred_extra_std)-sc_Y.mean_), axis=1)\n",
    "            dfw_extra = pd.DataFrame(data_extra)\n",
    "            dfw_extra.to_excel('extrapolation_with_std.xlsx', index=False, header=name + ['Standard Deviation'])\n",
    "\n",
    "            ################################\n",
    "            ## Shap Part\n",
    "            ################################            \n",
    "            # Fits the explainer\n",
    "            #explainer = shap.Explainer(gpr.predict, x_test)\n",
    "            # Calculates the SHAP values - It takes some time\n",
    "            #shap_values = explainer(x_test)\n",
    "            \n",
    "            #shap.summary_plot(shap_values,feature_names=name, plot_type='violin')\n",
    "\n",
    "\n",
    "            #def gpr_predict(X):\n",
    "             #   return gpr.predict(X).flatten()\n",
    "\n",
    "            # Fits the explainer\n",
    "            #explainer = shap.KernelExplainer(gpr_predict, shap.kmeans(x_train,4))\n",
    "            # Calculates the SHAP values - It takes some time\n",
    "            #shap_values = explainer.shap_values(x_test, nsamples='auto')\n",
    "            \n",
    "            #shap.summary_plot(shap_values, x_test, feature_names=name, plot_type='violin')\n",
    "           # plt.show()\n",
    "            # Create a new figure before saving to ensure the correct figure is saved\n",
    "           # plt.figure()\n",
    "\n",
    "            # Save the figure to a file (e.g., PNG)\n",
    "           # plt.savefig('shap_summary_plot.pdf', dpi=600, bbox_inches='tight')\n",
    "        \n",
    "      \n",
    "            ################################\n",
    "            ## Write rms to txt file\n",
    "            ################################\n",
    "            mse_train = np.sum(np.square(sc_Y.inverse_transform(y_train) - sc_Y.inverse_transform(pred_train))) / np.size(y_train)\n",
    "            rmse_train = np.sqrt(mse_train)\n",
    "            \n",
    "            mse = np.sum(np.square(sc_Y.inverse_transform(y_test) - sc_Y.inverse_transform(pred))) / np.size(y_test)\n",
    "            rmse = np.sqrt(mse)\n",
    "            \n",
    "            ms_extra = np.sum(np.square(sc_Y.inverse_transform(y_extra) - sc_Y.inverse_transform(pred_extra))) / np.size(y_extra)\n",
    "            rms_extra = np.sqrt(ms_extra)\n",
    "            \n",
    "            wfile.write(\"rms_train=%.4f,rms_pred=%.4f, rms_extra=%.4f\\n\"%(rmse_train, rmse, rms_extra))\n",
    "            print(rmse_train, rmse,rms_extra)\n",
    "                        \n",
    "            wfile.close()\n",
    "            os.chdir(cwd)\n",
    "            "
   ]
  },
  {
   "cell_type": "markdown",
   "metadata": {},
   "source": [
    "### Result Explaanation\n",
    "1. \"R^2 Score: 0.9995548072360587\" present the correlation between the predicted dependent variable and actual data. It is close to 1, which is a great result,  explaining almost all the variance of the dependent variable.\n",
    "2. \"0.021046297976098784 0.025156588574804902 nan\" are the RMSE:\n",
    "        RMSE error of training data predictions with respect to experimental data.\n",
    "        Second one: RMSE error of test data predictions with respect to experimental data.\n",
    "        The last one: We do not use this. It is trying to reach information in the \"NEW_EXP_DATA_FOR_EXTRAPOLATION.xlsx\", but in this file there is no experimental data and gives nan.\n"
   ]
  },
  {
   "cell_type": "code",
   "execution_count": 9,
   "metadata": {},
   "outputs": [
    {
     "name": "stdout",
     "output_type": "stream",
     "text": [
      "Column names: Index(['Z', 'N', 'A', 'A^2/3', '(N-Z)/A', 'PF', 'Zeo', 'NEO', 'Delta_Z',\n",
      "       'Delta_N', 'Shell_P', 'Shell_N', 'prediction', 'Standard Deviation'],\n",
      "      dtype='object')\n",
      "Filtered data (Z=50):\n",
      "         Z      N      A      A^2/3   (N-Z)/A   PF  Zeo  NEO  Delta_Z  \\\n",
      "2411  50.0   42.0   92.0  20.379423 -0.086957  0.0    0    0        0   \n",
      "2412  50.0   43.0   93.0  20.526834 -0.075269  0.0    0    1        0   \n",
      "2413  50.0   44.0   94.0  20.673717 -0.063830  0.0    0    0        0   \n",
      "2414  50.0   45.0   95.0  20.820080 -0.052632  0.0    0    1        0   \n",
      "2415  50.0   46.0   96.0  20.965931 -0.041667  0.0    0    0        0   \n",
      "...    ...    ...    ...        ...       ...  ...  ...  ...      ...   \n",
      "2493  50.0  124.0  174.0  31.167323  0.425287  0.0    0    0        0   \n",
      "2494  50.0  125.0  175.0  31.286624  0.428571  0.0    0    1        0   \n",
      "2495  50.0  126.0  176.0  31.405698  0.431818  0.0    0    0        0   \n",
      "2496  50.0  127.0  177.0  31.524546  0.435028  0.0    0    1        0   \n",
      "2497  50.0  128.0  178.0  31.643171  0.438202  0.0    0    0        0   \n",
      "\n",
      "      Delta_N  Shell_P  Shell_N  prediction  Standard Deviation  \n",
      "2411        8        1        1    1.579090            2.827478  \n",
      "2412        7        1        1   -1.863272            2.580708  \n",
      "2413        6        1        1  -14.448045            2.157312  \n",
      "2414        5        1        1  -18.711078            1.971283  \n",
      "2415        4        1        1  -29.702512            1.641520  \n",
      "...       ...      ...      ...         ...                 ...  \n",
      "2493        2        1        3  169.764425           10.031009  \n",
      "2494        1        1        3  176.575237           10.448977  \n",
      "2495        0        1        3  182.940588           10.884015  \n",
      "2496        1        1        4  189.256922           12.872943  \n",
      "2497        2        1        4  199.190262           13.168224  \n",
      "\n",
      "[87 rows x 14 columns]\n"
     ]
    },
    {
     "data": {
      "image/png": "[encoded data removed]",
      "text/plain": [
       "<Figure size 1000x600 with 1 Axes>"
      ]
     },
     "metadata": {},
     "output_type": "display_data"
    }
   ],
   "source": [
    "import pandas as pd\n",
    "import matplotlib.pyplot as plt\n",
    "\n",
    "# Load the Excel file\n",
    "file_path = 'python_plot/extrapolation_with_std.xlsx'  # Update this with the actual path to your file\n",
    "df = pd.read_excel(file_path)\n",
    "\n",
    "# Check the column names to ensure they are correct\n",
    "print(\"Column names:\", df.columns)\n",
    "\n",
    "# Filter the data for Z=50\n",
    "df_Z50 = df[df['Z'] == 50]\n",
    "\n",
    "# Check the filtered data\n",
    "print(\"Filtered data (Z=50):\")\n",
    "print(df_Z50)\n",
    "\n",
    "# Convert columns to numpy arrays before plotting\n",
    "N_values = df_Z50['N'].values\n",
    "prediction_values = df_Z50['prediction'].values\n",
    "\n",
    "# Plot the prediction as a function of neutron number\n",
    "plt.figure(figsize=(10, 6))\n",
    "plt.plot(N_values, prediction_values, marker='o', linestyle='-', color='b', label='Prediction')\n",
    "\n",
    "# Adding titles and labels\n",
    "plt.title('Prediction for Z=50 Isotopic Chain as a Function of Neutron Number')\n",
    "plt.xlabel('Neutron Number (N)')\n",
    "plt.ylabel('Prediction')\n",
    "plt.legend()\n",
    "\n",
    "# Display the plot\n",
    "plt.grid(True)\n",
    "plt.show()"
   ]
  },
  {
   "cell_type": "markdown",
   "metadata": {},
   "source": [
    "# Overfitting Check\n",
    "## Cross-validation"
   ]
  },
  {
   "cell_type": "code",
   "execution_count": 19,
   "metadata": {},
   "outputs": [
    {
     "name": "stdout",
     "output_type": "stream",
     "text": [
      "Cross-Validation RMSE scores: [0.03305856 0.02686774 0.02444195 0.02814338 0.07410807]\n",
      "Mean Cross-Validation RMSE: 0.037323942187255536\n",
      "R^2 Score (Train): 0.9995548072365624\n",
      "R^2 Score (Test): 0.9993383545998773\n"
     ]
    }
   ],
   "source": [
    "from sklearn.model_selection import cross_val_score\n",
    "\n",
    "# Define the kernel\n",
    "kernel = 1.0 * RBF(length_scale=s, length_scale_bounds=(1e-4, 1e5)) +\\\n",
    "            WhiteKernel(noise_level=1, noise_level_bounds=(1e-10, 1e1))\n",
    "gpr = GaussianProcessRegressor(kernel=kernel,alpha=a,normalize_y=n).fit(x_train, y_train)\n",
    "\n",
    "# Perform cross-validation\n",
    "cv_scores = cross_val_score(gpr, x_train, y_train, cv=5, scoring='neg_mean_squared_error')\n",
    "cv_rmse = np.sqrt(-cv_scores)\n",
    "\n",
    "# Print cross-validation results\n",
    "print(\"Cross-Validation RMSE scores:\", cv_rmse)\n",
    "print(\"Mean Cross-Validation RMSE:\", np.mean(cv_rmse))\n",
    "\n",
    "# Fit the model on the entire training set\n",
    "gpr.fit(x_train, y_train)\n",
    "\n",
    "# Calculate the R^2 score for training and test data\n",
    "r2_train = gpr.score(x_train, y_train)\n",
    "r2_test = gpr.score(x_test, y_test)\n",
    "print(\"R^2 Score (Train):\", r2_train)\n",
    "print(\"R^2 Score (Test):\", r2_test)\n",
    "\n",
    "# Check for overfitting\n",
    "if (r2_train - r2_test) > 0.1 or (np.mean(cv_rmse) - rmse_train) > 0.1:\n",
    "    print(\"Warning: The model might be overfitting. Consider regularization or using more training data.\")"
   ]
  },
  {
   "cell_type": "markdown",
   "metadata": {},
   "source": [
    "## Conclusion of CV\n",
    "\n",
    "The cross-validation RMSE scores show consistent performance across different subsets of the training data, with a mean RMSE of 0.037. The high \\( R^2 \\) scores for both the training set (0.9996) and the test set (0.9993) indicate that the model explains nearly all the variability in the data. These results suggest that the model is not significantly overfitting and generalizes well to unseen data."
   ]
  },
  {
   "cell_type": "markdown",
   "metadata": {},
   "source": [
    "## Learning Curve"
   ]
  },
  {
   "cell_type": "code",
   "execution_count": 22,
   "metadata": {},
   "outputs": [
    {
     "data": {
      "image/png": "[encoded data removed]",
      "text/plain": [
       "<Figure size 640x480 with 1 Axes>"
      ]
     },
     "metadata": {},
     "output_type": "display_data"
    }
   ],
   "source": [
    "from sklearn.model_selection import learning_curve\n",
    "\n",
    "kernel = 1.0 * RBF(length_scale=s, length_scale_bounds=(1e-4, 1e5)) +\\\n",
    "            WhiteKernel(noise_level=1, noise_level_bounds=(1e-10, 1e1))\n",
    "gpr = GaussianProcessRegressor(kernel=kernel,alpha=a,normalize_y=n).fit(x_train, y_train)\n",
    "\n",
    "# Generate learning curves\n",
    "train_sizes, train_scores, validation_scores = learning_curve(\n",
    "    gpr, x_train, y_train.ravel(), train_sizes=np.linspace(0.1, 1.0, 10), cv=5, scoring='neg_mean_squared_error')\n",
    "\n",
    "# Calculate the mean and standard deviation of the training and validation scores\n",
    "train_scores_mean = -np.mean(train_scores, axis=1)\n",
    "train_scores_std = np.std(train_scores, axis=1)\n",
    "validation_scores_mean = -np.mean(validation_scores, axis=1)\n",
    "validation_scores_std = np.std(validation_scores, axis=1)\n",
    "\n",
    "# Plot learning curves\n",
    "plt.figure()\n",
    "plt.title('Learning Curves (Gaussian Process Regressor)')\n",
    "plt.xlabel('Training examples')\n",
    "plt.ylabel('RMSE')\n",
    "plt.fill_between(train_sizes, train_scores_mean - train_scores_std,\n",
    "                 train_scores_mean + train_scores_std, alpha=0.1, color='r')\n",
    "plt.fill_between(train_sizes, validation_scores_mean - validation_scores_std,\n",
    "                 validation_scores_mean + validation_scores_std, alpha=0.1, color='g')\n",
    "plt.plot(train_sizes, train_scores_mean, 'o-', color='r', label='Training score')\n",
    "plt.plot(train_sizes, validation_scores_mean, 'o-', color='g', label='Cross-validation score')\n",
    "plt.legend(loc='best')\n",
    "plt.show()"
   ]
  },
  {
   "cell_type": "markdown",
   "metadata": {},
   "source": [
    "## Conclusion of Learning Curve\n",
    "The learning curves indicate that the model performs very well on the training data, with a consistently low RMSE. However, there is a noticeable gap between the training and validation RMSE values, with the validation RMSE being higher. This suggests some degree of overfitting, as the model fits the training data better than it generalizes to unseen data. To address this, consider adding regularization, gathering more training data, simplifying the model, and using cross-validation to improve generalization.\n",
    "\n",
    "There is some overfitting."
   ]
  }
 ],
 "metadata": {
  "kernelspec": {
   "display_name": "Python 3 (ipykernel)",
   "language": "python",
   "name": "python3"
  },
  "language_info": {
   "codemirror_mode": {
    "name": "ipython",
    "version": 3
   },
   "file_extension": ".py",
   "mimetype": "text/x-python",
   "name": "python",
   "nbconvert_exporter": "python",
   "pygments_lexer": "ipython3",
   "version": "3.11.5"
  }
 },
 "nbformat": 4,
 "nbformat_minor": 4
}
